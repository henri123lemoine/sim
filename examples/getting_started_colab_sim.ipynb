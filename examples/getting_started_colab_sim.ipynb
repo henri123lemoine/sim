{
 "cells": [
  {
   "cell_type": "markdown",
   "metadata": {
    "id": "sRtNitKlw1zw"
   },
   "source": [
    "This Notebook works on L4 and A100 GPUs"
   ]
  },
  {
   "cell_type": "code",
   "execution_count": null,
   "metadata": {
    "id": "iYqTHUm8hv1F"
   },
   "outputs": [],
   "source": [
    "from google.colab import drive\n",
    "\n",
    "drive.mount(\"/content/drive\", force_remount=True)"
   ]
  },
  {
   "cell_type": "code",
   "execution_count": null,
   "metadata": {
    "id": "16UZ4d3Nm1PY"
   },
   "outputs": [],
   "source": [
    "%cd /content/drive/MyDrive\n",
    "!git clone https://github.com/kscalelabs/sim.git"
   ]
  },
  {
   "cell_type": "code",
   "execution_count": null,
   "metadata": {
    "id": "pQ7Ev2668RqY"
   },
   "outputs": [],
   "source": [
    "cd /content/drive/MyDrive/sim"
   ]
  },
  {
   "cell_type": "code",
   "execution_count": null,
   "metadata": {
    "id": "dmwa4ir7OfMU"
   },
   "outputs": [],
   "source": [
    "!apt-get update -y\n",
    "!apt-get install python3.8 python3.8-distutils\n",
    "!update-alternatives --install /usr/bin/python3 python3 /usr/bin/python3.8 1\n",
    "!update-alternatives --config python3\n",
    "!apt-get install python3-pip\n",
    "!python3 -m pip install --upgrade pip --user"
   ]
  },
  {
   "cell_type": "code",
   "execution_count": null,
   "metadata": {
    "id": "TrLr6NG20IN4"
   },
   "outputs": [],
   "source": [
    "!sudo apt-get install libpython3.8-dev\n",
    "!pip install numpy"
   ]
  },
  {
   "cell_type": "code",
   "execution_count": null,
   "metadata": {
    "id": "HGAYjhc33_Ad"
   },
   "outputs": [],
   "source": [
    "!make install-dev"
   ]
  },
  {
   "cell_type": "code",
   "execution_count": null,
   "metadata": {
    "id": "xl-_w0pIwgZH"
   },
   "outputs": [],
   "source": [
    "# Manually download IsaacGym_Preview_4_Package.tar.gz from https://developer.nvidia.com/isaac-gym\n",
    "# And place it in your sim folder in google drive.\n",
    "# OR use this slower upload option below\n",
    "from google.colab import files\n",
    "\n",
    "uploaded = files.upload()"
   ]
  },
  {
   "cell_type": "code",
   "execution_count": null,
   "metadata": {
    "id": "H52XAPEPOZ0k"
   },
   "outputs": [],
   "source": [
    "!tar -xvf IsaacGym_Preview_4_Package.tar.gz\n",
    "%env ISAACGYM_PATH=`pwd`/isaacgym\n",
    "!export ISAACGYM_PATH=$(pwd)/isaacgym\n",
    "!make install-third-party-external"
   ]
  },
  {
   "cell_type": "code",
   "execution_count": 10,
   "metadata": {
    "id": "fVReUppMRDEm"
   },
   "outputs": [],
   "source": [
    "!wget https://media.kscale.dev/stompy.tar.gz && tar -xzvf stompy.tar.gz\n",
    "!python sim/scripts/create_fixed_torso.py"
   ]
  },
  {
   "cell_type": "code",
   "execution_count": null,
   "metadata": {
    "id": "j_7WABU14nHI"
   },
   "outputs": [],
   "source": [
    "%env MODEL_DIR=stompy"
   ]
  },
  {
   "cell_type": "code",
   "execution_count": null,
   "metadata": {
    "id": "xR7Wpx8aSJQX"
   },
   "outputs": [],
   "source": [
    "!python sim/train.py --task=stompymini --num_envs=4096 --headless"
   ]
  },
  {
   "cell_type": "code",
   "execution_count": null,
   "metadata": {
    "id": "Gzgj4q5vV0TY"
   },
   "outputs": [],
   "source": [
    "# Untested\n",
    "!python sim/play.py --task stompymini --sim_device cpu"
   ]
  }
 ],
 "metadata": {
  "accelerator": "GPU",
  "colab": {
   "gpuType": "L4",
   "provenance": []
  },
  "kernelspec": {
   "display_name": "Python 3",
   "name": "python3"
  },
  "language_info": {
   "name": "python"
  }
 },
 "nbformat": 4,
 "nbformat_minor": 0
}
